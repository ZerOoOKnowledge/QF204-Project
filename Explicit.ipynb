{
 "cells": [
  {
   "cell_type": "code",
   "execution_count": 180,
   "metadata": {},
   "outputs": [],
   "source": [
    "%reset -f\n",
    "# Input:\n",
    "import numpy as np\n",
    "S = 8\n",
    "K = 5\n",
    "r = 0.01\n",
    "q = 0.1\n",
    "t = 0\n",
    "T = 1\n",
    "sigma = 0.5\n",
    "M = 10\n",
    "N = 100"
   ]
  },
  {
   "cell_type": "code",
   "execution_count": 181,
   "metadata": {},
   "outputs": [],
   "source": [
    "# Step 1:\n",
    "t_delta = T / N\n",
    "S_max = 2 * K\n",
    "S_delta = S_max / M"
   ]
  },
  {
   "cell_type": "code",
   "execution_count": 182,
   "metadata": {},
   "outputs": [],
   "source": [
    "# Step 2:\n",
    "F = np.zeros((M + 1, N + 1))\n",
    "F_hat = np.zeros((M + 1, N + 1))\n",
    "for j in range(M + 1):\n",
    "    F[j][N] = max(j * S_delta - K, 0)"
   ]
  },
  {
   "cell_type": "code",
   "execution_count": 183,
   "metadata": {},
   "outputs": [],
   "source": [
    "# Step 3:\n",
    "for i in range(N - 1, -1, -1):\n",
    "    # Step 3.1:\n",
    "    for j in range(1, M):\n",
    "        a = 0.5 * t_delta * (sigma * sigma * j * j - (r - q) * j)\n",
    "        b = 1 - t_delta * (sigma * sigma * j * j + r)\n",
    "        c = 0.5 * t_delta * (sigma * sigma * j * j + (r - q) * j)\n",
    "        F[j][i] = a * F[j - 1][i + 1] + b * F[j][i + 1] + c * F[j + 1][i + 1]\n",
    "    \n",
    "    # Step 3.2:\n",
    "    F[M][i] = S_max - K * np.exp(-r * (N - i) * t_delta)"
   ]
  },
  {
   "cell_type": "code",
   "execution_count": 184,
   "metadata": {},
   "outputs": [],
   "source": [
    "# Step 4:\n",
    "k = int(np.floor(S / S_delta))"
   ]
  },
  {
   "cell_type": "code",
   "execution_count": 185,
   "metadata": {},
   "outputs": [],
   "source": [
    "# Step 5:\n",
    "V = F[k, 0]+ (F[k + 1, 0] - F[k, 0]) / S_delta * (S - k * S_delta)"
   ]
  },
  {
   "cell_type": "code",
   "execution_count": 186,
   "metadata": {},
   "outputs": [
    {
     "data": {
      "text/plain": [
       "2.969088299912025"
      ]
     },
     "execution_count": 186,
     "metadata": {},
     "output_type": "execute_result"
    }
   ],
   "source": [
    "V"
   ]
  },
  {
   "cell_type": "code",
   "execution_count": 187,
   "metadata": {},
   "outputs": [
    {
     "data": {
      "text/plain": [
       "array([[0.00000000e+00, 0.00000000e+00, 0.00000000e+00, ...,\n",
       "        0.00000000e+00, 0.00000000e+00, 0.00000000e+00],\n",
       "       [2.22696703e-04, 2.14689372e-04, 2.06871666e-04, ...,\n",
       "        0.00000000e+00, 0.00000000e+00, 0.00000000e+00],\n",
       "       [1.09720936e-02, 1.07069052e-02, 1.04444648e-02, ...,\n",
       "        0.00000000e+00, 0.00000000e+00, 0.00000000e+00],\n",
       "       ...,\n",
       "       [2.96908830e+00, 2.96705975e+00, 2.96502768e+00, ...,\n",
       "        2.98500795e+00, 2.99250000e+00, 3.00000000e+00],\n",
       "       [3.95945029e+00, 3.95815305e+00, 3.95685490e+00, ...,\n",
       "        3.98398095e+00, 3.99150000e+00, 4.00000000e+00],\n",
       "       [5.04975083e+00, 5.04925578e+00, 5.04876068e+00, ...,\n",
       "        5.00099990e+00, 5.00049998e+00, 5.00000000e+00]])"
      ]
     },
     "execution_count": 187,
     "metadata": {},
     "output_type": "execute_result"
    }
   ],
   "source": [
    "F"
   ]
  },
  {
   "cell_type": "code",
   "execution_count": null,
   "metadata": {},
   "outputs": [],
   "source": []
  }
 ],
 "metadata": {
  "kernelspec": {
   "display_name": "Python 3",
   "language": "python",
   "name": "python3"
  },
  "language_info": {
   "codemirror_mode": {
    "name": "ipython",
    "version": 3
   },
   "file_extension": ".py",
   "mimetype": "text/x-python",
   "name": "python",
   "nbconvert_exporter": "python",
   "pygments_lexer": "ipython3",
   "version": "3.7.4"
  }
 },
 "nbformat": 4,
 "nbformat_minor": 2
}
