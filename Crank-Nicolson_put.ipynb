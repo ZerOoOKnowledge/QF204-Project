{
 "cells": [
  {
   "cell_type": "code",
   "execution_count": 47,
   "metadata": {},
   "outputs": [],
   "source": [
    "%reset -f\n",
    "# Input:\n",
    "import math\n",
    "import matrixOperations\n",
    "S = 4\n",
    "K = 5\n",
    "r = 0.01\n",
    "q = 0.1\n",
    "t = 0\n",
    "T = 1\n",
    "sigma = 0.5\n",
    "M = 50\n",
    "N = 2500"
   ]
  },
  {
   "cell_type": "code",
   "execution_count": 48,
   "metadata": {},
   "outputs": [],
   "source": [
    "# Step 1:\n",
    "t_delta = T / N\n",
    "S_max = 2 * K\n",
    "S_delta = S_max / M"
   ]
  },
  {
   "cell_type": "code",
   "execution_count": 49,
   "metadata": {},
   "outputs": [],
   "source": [
    "# Step 2:\n",
    "F_hat = [[0 for _ in range(N + 1)] for _ in range(M + 1)]\n",
    "F = [[0 for _ in range(N + 1)] for _ in range(M + 1)]\n",
    "for j in range(M + 1):\n",
    "    F[j][N] = max(K - j * S_delta, 0)"
   ]
  },
  {
   "cell_type": "code",
   "execution_count": 50,
   "metadata": {},
   "outputs": [],
   "source": [
    "# Step 3:\n",
    "for i in range(N - 1, -1, -1):\n",
    "    # Step 3.1, 3.2:\n",
    "    b = [[0] for _ in range(M + 1)]\n",
    "    for j in range(1, M):\n",
    "        alpha = 0.25 * t_delta * (sigma * sigma * j * j - (r - q) * j)\n",
    "        beta = -0.5 * t_delta * (sigma * sigma + r)\n",
    "        gamma = 0.25 * t_delta * (sigma * sigma * j * j + (r - q) * j)\n",
    "        b[j][0] = alpha * F[j - 1][i + 1] + beta * F[j][i + 1] + gamma * F[j + 1][i + 1]\n",
    "    b[0][0] = K * math.exp(-r * (N - i) * t_delta)\n",
    "    \n",
    "    # Step 3.3:\n",
    "    M1 = [[0 for _ in range(M + 1)] for _ in range(M + 1)]\n",
    "    M1[0][0] = 1\n",
    "    M1[M][M] = 1\n",
    "    \n",
    "    for j in range(1, M):\n",
    "        M1[j][j - 1] = 0.25 * t_delta * (sigma * sigma * j * j - (r - q) * j)\n",
    "        M1[j][j] = -0.5 * t_delta * (sigma * sigma + r)\n",
    "        M1[j][j + 1] = 0.25 * t_delta * (sigma * sigma * j * j + (r - q) * j)\n",
    "    \n",
    "    M1_inv = matrixOperations.inverse(M1)\n",
    "    F_col = matrixOperations.multiply(M1_inv, b)\n",
    "    for j in range(M + 1):\n",
    "        F[j][i] = F_col[j][0]"
   ]
  },
  {
   "cell_type": "code",
   "execution_count": 51,
   "metadata": {},
   "outputs": [],
   "source": [
    "# Step 4:\n",
    "k = int(math.floor(S / S_delta))"
   ]
  },
  {
   "cell_type": "code",
   "execution_count": 52,
   "metadata": {},
   "outputs": [],
   "source": [
    "# Step 5:\n",
    "V = F[k][0] + (F[k + 1][0] - F[k][0]) / S_delta * (S - k * S_delta)"
   ]
  },
  {
   "cell_type": "code",
   "execution_count": 53,
   "metadata": {},
   "outputs": [
    {
     "data": {
      "text/plain": [
       "0.9967206408988484"
      ]
     },
     "execution_count": 53,
     "metadata": {},
     "output_type": "execute_result"
    }
   ],
   "source": [
    "V"
   ]
  },
  {
   "cell_type": "code",
   "execution_count": null,
   "metadata": {},
   "outputs": [],
   "source": []
  }
 ],
 "metadata": {
  "kernelspec": {
   "display_name": "Python 3",
   "language": "python",
   "name": "python3"
  },
  "language_info": {
   "codemirror_mode": {
    "name": "ipython",
    "version": 3
   },
   "file_extension": ".py",
   "mimetype": "text/x-python",
   "name": "python",
   "nbconvert_exporter": "python",
   "pygments_lexer": "ipython3",
   "version": "3.7.4"
  }
 },
 "nbformat": 4,
 "nbformat_minor": 2
}
