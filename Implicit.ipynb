{
 "cells": [
  {
   "cell_type": "code",
   "execution_count": 53,
   "metadata": {},
   "outputs": [],
   "source": [
    "%reset -f\n",
    "# Input:\n",
    "import numpy as np\n",
    "S = 8\n",
    "K = 5\n",
    "r = 0.01\n",
    "q = 0.1\n",
    "t = 0\n",
    "T = 1\n",
    "sigma = 0.5\n",
    "M = 10\n",
    "N = 100"
   ]
  },
  {
   "cell_type": "code",
   "execution_count": 54,
   "metadata": {},
   "outputs": [],
   "source": [
    "# Step 1:\n",
    "t_delta = T / N\n",
    "S_max = 2 * K\n",
    "S_delta = S_max / M"
   ]
  },
  {
   "cell_type": "code",
   "execution_count": 55,
   "metadata": {},
   "outputs": [],
   "source": [
    "# Step 2:\n",
    "F_hat = np.zeros((M + 1, N + 1))\n",
    "F = np.zeros((M + 1, N + 1))\n",
    "for j in range(M + 1):\n",
    "    F[j][N] = max(j * S_delta - K, 0)"
   ]
  },
  {
   "cell_type": "code",
   "execution_count": 56,
   "metadata": {
    "scrolled": false
   },
   "outputs": [],
   "source": [
    "# Step 3:\n",
    "for i in range(N - 1, -1, -1):\n",
    "    # Step 3.1:\n",
    "    for j in range(1, M):\n",
    "        F_hat[j][i + 1] = F[j][i + 1]\n",
    "    F_hat[M][i + 1] = S_max - K * np.exp(-r * (N - i) * t_delta)\n",
    "    \n",
    "    # Step 3.2:\n",
    "    A = np.zeros((M + 1, M + 1))\n",
    "    A[0][0] = 1\n",
    "    for j in range(1, M):\n",
    "        A[j][j - 1] = 0.5 * t_delta * ((r - q) * j - sigma * sigma * j * j)\n",
    "        A[j][j] = 1 + t_delta * (sigma * sigma * j * j + r)\n",
    "        A[j][j + 1] = -0.5 * t_delta * (sigma * sigma * j * j + (r - q) * j)\n",
    "    A[M][M] = 1\n",
    "    # print(A)\n",
    "    A_inv = np.linalg.inv(A)\n",
    "    F[:, i] = A_inv.dot(F_hat[:, i + 1])\n"
   ]
  },
  {
   "cell_type": "code",
   "execution_count": 57,
   "metadata": {},
   "outputs": [],
   "source": [
    "# Step 4:\n",
    "k = int(np.floor(S / S_delta))"
   ]
  },
  {
   "cell_type": "code",
   "execution_count": 58,
   "metadata": {},
   "outputs": [],
   "source": [
    "# Step 5:\n",
    "V = F[k, 0] + (F[k + 1, 0] - F[k, 0]) / S_delta * (S - k * S_delta)"
   ]
  },
  {
   "cell_type": "code",
   "execution_count": 59,
   "metadata": {},
   "outputs": [
    {
     "data": {
      "text/plain": [
       "2.9687599850433477"
      ]
     },
     "execution_count": 59,
     "metadata": {},
     "output_type": "execute_result"
    }
   ],
   "source": [
    "V"
   ]
  },
  {
   "cell_type": "code",
   "execution_count": 31,
   "metadata": {},
   "outputs": [
    {
     "data": {
      "text/plain": [
       "array([[0.00000000e+00, 0.00000000e+00, 0.00000000e+00, ...,\n",
       "        0.00000000e+00, 0.00000000e+00, 0.00000000e+00],\n",
       "       [2.58453769e-07, 2.41132412e-07, 2.24766548e-07, ...,\n",
       "        1.68306389e-19, 1.34487926e-20, 0.00000000e+00],\n",
       "       [2.24916710e-05, 2.12410115e-05, 2.00436729e-05, ...,\n",
       "        1.94118992e-16, 1.68546993e-17, 0.00000000e+00],\n",
       "       ...,\n",
       "       [4.20492202e+00, 4.20381493e+00, 4.20270711e+00, ...,\n",
       "        4.21652366e+00, 4.22311362e+00, 4.23076923e+00],\n",
       "       [4.62044234e+00, 4.61963669e+00, 4.61883071e+00, ...,\n",
       "        4.60546911e+00, 4.60961022e+00, 4.61538462e+00],\n",
       "       [5.04975083e+00, 5.04925578e+00, 5.04876068e+00, ...,\n",
       "        5.00099990e+00, 5.00049998e+00, 5.00000000e+00]])"
      ]
     },
     "execution_count": 31,
     "metadata": {},
     "output_type": "execute_result"
    }
   ],
   "source": [
    "F"
   ]
  },
  {
   "cell_type": "code",
   "execution_count": null,
   "metadata": {},
   "outputs": [],
   "source": []
  }
 ],
 "metadata": {
  "kernelspec": {
   "display_name": "Python 3",
   "language": "python",
   "name": "python3"
  },
  "language_info": {
   "codemirror_mode": {
    "name": "ipython",
    "version": 3
   },
   "file_extension": ".py",
   "mimetype": "text/x-python",
   "name": "python",
   "nbconvert_exporter": "python",
   "pygments_lexer": "ipython3",
   "version": "3.7.4"
  }
 },
 "nbformat": 4,
 "nbformat_minor": 2
}
