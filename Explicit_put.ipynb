{
 "cells": [
  {
   "cell_type": "code",
   "execution_count": 103,
   "metadata": {},
   "outputs": [],
   "source": [
    "%reset -f\n",
    "import math\n",
    "# Input:\n",
    "S = 5\n",
    "K = 5\n",
    "r = 0.01\n",
    "q = 0.1\n",
    "t = 0\n",
    "T = 1\n",
    "sigma = 0.5\n",
    "M = 100\n",
    "N = 100000"
   ]
  },
  {
   "cell_type": "code",
   "execution_count": 104,
   "metadata": {},
   "outputs": [],
   "source": [
    "# Step 1:\n",
    "t_delta = T / N\n",
    "S_max = 2 * K\n",
    "S_delta = S_max / M"
   ]
  },
  {
   "cell_type": "code",
   "execution_count": 105,
   "metadata": {},
   "outputs": [],
   "source": [
    "# Step 2:\n",
    "F = [[0 for _ in range(N + 1)] for _ in range(M + 1)]\n",
    "F_hat = [[0 for _ in range(N + 1)] for _ in range(M + 1)]\n",
    "for j in range(M + 1):\n",
    "    F[j][N] = max(K - j * S_delta, 0)"
   ]
  },
  {
   "cell_type": "code",
   "execution_count": 106,
   "metadata": {},
   "outputs": [],
   "source": [
    "# Step 3:\n",
    "for i in range(N - 1, -1, -1):\n",
    "    # Step 3.1:\n",
    "    for j in range(1, M):\n",
    "        a = 0.5 * t_delta * (sigma * sigma * j * j - (r - q) * j)\n",
    "        b = 1 - t_delta * (sigma * sigma * j * j + r)\n",
    "        c = 0.5 * t_delta * (sigma * sigma * j * j + (r - q) * j)\n",
    "        F[j][i] = a * F[j - 1][i + 1] + b * F[j][i + 1] + c * F[j + 1][i + 1]\n",
    "    \n",
    "    # Step 3.2:\n",
    "    F[0][i] = K * math.exp(-r * (N - i) * t_delta)"
   ]
  },
  {
   "cell_type": "code",
   "execution_count": 107,
   "metadata": {},
   "outputs": [],
   "source": [
    "# Step 4:\n",
    "k = int(math.floor(S / S_delta))"
   ]
  },
  {
   "cell_type": "code",
   "execution_count": 108,
   "metadata": {},
   "outputs": [],
   "source": [
    "# Step 5:\n",
    "V = F[k][0]+ (F[k + 1][0] - F[k][0]) / S_delta * (S - k * S_delta)"
   ]
  },
  {
   "cell_type": "code",
   "execution_count": 109,
   "metadata": {},
   "outputs": [
    {
     "data": {
      "text/plain": [
       "1.160730706820386"
      ]
     },
     "execution_count": 109,
     "metadata": {},
     "output_type": "execute_result"
    }
   ],
   "source": [
    "V"
   ]
  },
  {
   "cell_type": "code",
   "execution_count": null,
   "metadata": {},
   "outputs": [],
   "source": []
  }
 ],
 "metadata": {
  "kernelspec": {
   "display_name": "Python 3",
   "language": "python",
   "name": "python3"
  },
  "language_info": {
   "codemirror_mode": {
    "name": "ipython",
    "version": 3
   },
   "file_extension": ".py",
   "mimetype": "text/x-python",
   "name": "python",
   "nbconvert_exporter": "python",
   "pygments_lexer": "ipython3",
   "version": "3.7.4"
  }
 },
 "nbformat": 4,
 "nbformat_minor": 2
}
