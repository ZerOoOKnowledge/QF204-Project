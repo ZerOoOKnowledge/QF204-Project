{
 "cells": [
  {
   "cell_type": "code",
   "execution_count": 8,
   "metadata": {},
   "outputs": [],
   "source": [
    "%reset -f\n",
    "# Input:\n",
    "import math\n",
    "import matrixOperations\n",
    "S = 4\n",
    "K = 5\n",
    "r = 0.01\n",
    "q = 0.1\n",
    "t = 0\n",
    "T = 1\n",
    "sigma = 0.5\n",
    "M = 100\n",
    "N = 5000"
   ]
  },
  {
   "cell_type": "code",
   "execution_count": 9,
   "metadata": {},
   "outputs": [],
   "source": [
    "# Step 1:\n",
    "t_delta = T / N\n",
    "S_max = 2 * K\n",
    "S_delta = S_max / M"
   ]
  },
  {
   "cell_type": "code",
   "execution_count": 10,
   "metadata": {},
   "outputs": [],
   "source": [
    "# Step 2:\n",
    "F_hat = [[0 for _ in range(N + 1)] for _ in range(M + 1)]\n",
    "F = [[0 for _ in range(N + 1)] for _ in range(M + 1)]\n",
    "for j in range(M + 1):\n",
    "    F[j][N] = max(K - j * S_delta, 0)"
   ]
  },
  {
   "cell_type": "code",
   "execution_count": 11,
   "metadata": {},
   "outputs": [],
   "source": [
    "# Step 3:\n",
    "for i in range(N - 1, -1, -1):\n",
    "    # Step 3.1:\n",
    "    for j in range(1, M):\n",
    "        F_hat[j][i + 1] = F[j][i + 1]\n",
    "    F_hat[0][i + 1] = K * math.exp(-r * (N - i) * t_delta)\n",
    "    \n",
    "    # Step 3.2:\n",
    "    A = [[0 for _ in range(M + 1)] for _ in range(M + 1)]\n",
    "    A[0][0] = 1\n",
    "    for j in range(1, M):\n",
    "        A[j][j - 1] = 0.5 * t_delta * ((r - q) * j - sigma * sigma * j * j)\n",
    "        A[j][j] = 1 + t_delta * (sigma * sigma * j * j + r)\n",
    "        A[j][j + 1] = -0.5 * t_delta * (sigma * sigma * j * j + (r - q) * j)\n",
    "    A[M][M] = 1\n",
    "    A_inv = matrixOperations.inverse(A)\n",
    "    F_hat_col = [[F_hat[j][i + 1]] for j in range(M + 1)]\n",
    "    F_col = matrixOperations.multiply(A_inv, F_hat_col)\n",
    "    for j in range(M + 1):\n",
    "        F[j][i] = F_col[j][0]"
   ]
  },
  {
   "cell_type": "code",
   "execution_count": 12,
   "metadata": {},
   "outputs": [],
   "source": [
    "# Step 4:\n",
    "k = int(math.floor(S / S_delta))"
   ]
  },
  {
   "cell_type": "code",
   "execution_count": 13,
   "metadata": {},
   "outputs": [],
   "source": [
    "# Step 5:\n",
    "V = F[k][0] + (F[k + 1][0] - F[k][0]) / S_delta * (S - k * S_delta)"
   ]
  },
  {
   "cell_type": "code",
   "execution_count": 14,
   "metadata": {},
   "outputs": [
    {
     "data": {
      "text/plain": [
       "1.6665486415328539"
      ]
     },
     "execution_count": 14,
     "metadata": {},
     "output_type": "execute_result"
    }
   ],
   "source": [
    "V"
   ]
  },
  {
   "cell_type": "code",
   "execution_count": null,
   "metadata": {},
   "outputs": [],
   "source": []
  }
 ],
 "metadata": {
  "kernelspec": {
   "display_name": "Python 3",
   "language": "python",
   "name": "python3"
  },
  "language_info": {
   "codemirror_mode": {
    "name": "ipython",
    "version": 3
   },
   "file_extension": ".py",
   "mimetype": "text/x-python",
   "name": "python",
   "nbconvert_exporter": "python",
   "pygments_lexer": "ipython3",
   "version": "3.7.4"
  }
 },
 "nbformat": 4,
 "nbformat_minor": 2
}
